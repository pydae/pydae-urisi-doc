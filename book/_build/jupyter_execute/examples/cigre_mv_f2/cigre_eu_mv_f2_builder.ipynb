{
 "cells": [
  {
   "cell_type": "code",
   "execution_count": null,
   "metadata": {},
   "outputs": [],
   "source": []
  },
  {
   "cell_type": "code",
   "execution_count": 1,
   "metadata": {},
   "outputs": [
    {
     "ename": "SyntaxError",
     "evalue": "invalid syntax. Perhaps you forgot a comma? (2465858223.py, line 17)",
     "output_type": "error",
     "traceback": [
      "\u001b[1;36m  Cell \u001b[1;32mIn[1], line 17\u001b[1;36m\u001b[0m\n\u001b[1;33m    {\"bus\": \"12\", \"kVA\":100, \"pf\": 0.95, \"type\":\"3P\", \"model\":\"ZIP\"}\u001b[0m\n\u001b[1;37m    ^\u001b[0m\n\u001b[1;31mSyntaxError\u001b[0m\u001b[1;31m:\u001b[0m invalid syntax. Perhaps you forgot a comma?\n"
     ]
    }
   ],
   "source": [
    "data  = {\n",
    "\"system\":{\"S_base\":1e6, \"K_p_agc\":0.01, \"K_i_agc\":0.01, \"K_xif\":0.01},\n",
    "\"buses\": [{\"name\":\"00\",\"U_kV\":110.0, \"N_nodes\":3},\n",
    "          {\"name\":\"12\",\"U_kV\": 20.0, \"N_nodes\":3},\n",
    "          {\"name\":\"13\",\"U_kV\": 20.0, \"N_nodes\":3},\n",
    "          {\"name\":\"14\",\"U_kV\": 20.0, \"N_nodes\":3}],\n",
    "\"lines\":     [  \n",
    "                {\"bus_j\":\"12\", \"bus_k\":\"13\", \"R_km\":0.510, \"X_km\":0.366, \"B_muS_km\":3.172, \"km\":4.89, \"N_branches\":3},\n",
    "                {\"bus_j\":\"13\", \"bus_k\":\"14\", \"R_km\":0.510, \"X_km\":0.366, \"B_muS_km\":3.172, \"km\":2.99, \"N_branches\":3},\n",
    "             ],\n",
    "\"transformers\":[\n",
    "        {\"bus_j\": \"00\",  \"bus_k\": \"12\",  \"S_n_kVA\": 25000, \"U_j_kV\":110, \"U_k_kV\":20,\n",
    "         \"R_cc_pu\": 0.01, \"X_cc_pu\":0.04, \"connection\": \"Dyg11_3w\",   \"conductors_j\": 3, \"conductors_k\": 3,\n",
    "         \"monitor\":True}\n",
    "       ],\n",
    "\"loads\" : [\n",
    "         {\"bus\": \"12\", \"kVA\":100, \"pf\": 0.95, \"type\":\"3P\", \"model\":\"ZIP\"}\n",
    "         {\"bus\": \"13\", \"kVA\":100, \"pf\": 0.95, \"type\":\"3P\", \"model\":\"ZIP\"}\n",
    "         {\"bus\": \"14\", \"kVA\":100, \"pf\": 0.95, \"type\":\"3P\", \"model\":\"ZIP\"}\n",
    "        ],\n",
    "\"sources\":[\n",
    "       {\"type\":\"ac3ph3w_ideal\", \"bus\": \"00\", \"S_n\":100e3, \"U_n\" :110e3, \"R\":0.01, \"X\":0.1}\n",
    "           ]}\n",
    "\n",
    "from pydae.urisi.urisi_builder import urisi\n",
    "\n",
    "grid = urisi(data)\n",
    "grid.uz_jacs = False\n",
    "grid.build('cigre_eu_mv_f2')"
   ]
  },
  {
   "cell_type": "code",
   "execution_count": null,
   "metadata": {},
   "outputs": [],
   "source": []
  },
  {
   "cell_type": "code",
   "execution_count": null,
   "metadata": {},
   "outputs": [],
   "source": []
  }
 ],
 "metadata": {
  "kernelspec": {
   "display_name": "Python 3 (ipykernel)",
   "language": "python",
   "name": "python3"
  },
  "language_info": {
   "codemirror_mode": {
    "name": "ipython",
    "version": 3
   },
   "file_extension": ".py",
   "mimetype": "text/x-python",
   "name": "python",
   "nbconvert_exporter": "python",
   "pygments_lexer": "ipython3",
   "version": "3.11.7"
  }
 },
 "nbformat": 4,
 "nbformat_minor": 4
}