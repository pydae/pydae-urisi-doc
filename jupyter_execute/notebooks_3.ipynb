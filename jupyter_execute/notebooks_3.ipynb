{
 "cells": [
  {
   "cell_type": "code",
   "execution_count": 4,
   "metadata": {},
   "outputs": [
    {
     "data": {
      "application/vnd.jupyter.widget-view+json": {
       "model_id": "2b635ac7bb8d48069c7ed9eb06fd4601",
       "version_major": 2,
       "version_minor": 0
      },
      "text/plain": [
       "VBox(children=(Label(value='20'), IntSlider(value=40)))"
      ]
     },
     "metadata": {},
     "output_type": "display_data"
    }
   ],
   "source": [
    "import ipywidgets\n",
    "from ipywidgets.embed import embed_minimal_html\n",
    "\n",
    "text = ipywidgets.Label(value=f'{20}')\n",
    "slider = ipywidgets.IntSlider(value=40)\n",
    "\n",
    "def update_textbox(change):\n",
    "    text.value = f'{slider.value}'\n",
    "\n",
    "\n",
    "layout = ipywidgets.VBox([text,slider])\n",
    "slider.observe(update_textbox)\n",
    "#embed_minimal_html('export.html', views=[layout], title='Widgets export')\n",
    "layout"
   ]
  },
  {
   "cell_type": "code",
   "execution_count": null,
   "metadata": {},
   "outputs": [],
   "source": []
  }
 ],
 "metadata": {
  "kernelspec": {
   "display_name": "Python 3",
   "language": "python",
   "name": "python3"
  },
  "language_info": {
   "codemirror_mode": {
    "name": "ipython",
    "version": 3
   },
   "file_extension": ".py",
   "mimetype": "text/x-python",
   "name": "python",
   "nbconvert_exporter": "python",
   "pygments_lexer": "ipython3",
   "version": "3.11.5"
  },
  "widgets": {
   "application/vnd.jupyter.widget-state+json": {
    "state": {},
    "version_major": 2,
    "version_minor": 0
   }
  }
 },
 "nbformat": 4,
 "nbformat_minor": 4
}
