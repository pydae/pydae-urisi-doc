{
 "cells": [
  {
   "cell_type": "code",
   "execution_count": 1,
   "metadata": {},
   "outputs": [
    {
     "data": {
      "application/vnd.jupyter.widget-view+json": {
       "model_id": "50718ca7024d4de98242e2224b0edb71",
       "version_major": 2,
       "version_minor": 0
      },
      "text/plain": [
       "VBox(children=(Text(value='Initial Text', description='Text Box:'), FloatSlider(value=1.0, description='Slider…"
      ]
     },
     "metadata": {},
     "output_type": "display_data"
    }
   ],
   "source": [
    "import ipywidgets as widgets\n",
    "from IPython.display import display\n",
    "import time\n",
    "\n",
    "# Create a Text widget\n",
    "text_widget = widgets.Text(\n",
    "    value=\"Initial Text\",\n",
    "    description=\"Text Box:\"\n",
    ")\n",
    "\n",
    "slider_widget = widgets.FloatSlider(\n",
    "    value=1.0,\n",
    "    min=1.0,\n",
    "    max=10.0,\n",
    "    step=0.1,\n",
    "    description=\"Slider:\"\n",
    ")\n",
    "\n",
    "# Display the Text widget\n",
    "display(widgets.VBox([text_widget,slider_widget]))\n",
    "\n",
    "# Function to continuously update the Text widget\n",
    "def update_textbox():\n",
    "    while True:\n",
    "        text_widget.value = f\"Text: {time.ctime()} {slider_widget.value}\"\n",
    "        time.sleep(1)  # Update every 1 second\n",
    "\n",
    "# Create a thread for updating the Text widget\n",
    "import threading\n",
    "update_thread = threading.Thread(target=update_textbox)\n",
    "\n",
    "# Start the thread\n",
    "update_thread.start()\n"
   ]
  },
  {
   "cell_type": "code",
   "execution_count": null,
   "metadata": {},
   "outputs": [],
   "source": []
  }
 ],
 "metadata": {
  "kernelspec": {
   "display_name": "Python 3",
   "language": "python",
   "name": "python3"
  },
  "language_info": {
   "codemirror_mode": {
    "name": "ipython",
    "version": 3
   },
   "file_extension": ".py",
   "mimetype": "text/x-python",
   "name": "python",
   "nbconvert_exporter": "python",
   "pygments_lexer": "ipython3",
   "version": "3.10.11"
  },
  "widgets": {
   "application/vnd.jupyter.widget-state+json": {
    "state": {},
    "version_major": 2,
    "version_minor": 0
   }
  }
 },
 "nbformat": 4,
 "nbformat_minor": 4
}
