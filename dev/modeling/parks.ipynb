{
 "cells": [
  {
   "cell_type": "markdown",
   "id": "3888118f",
   "metadata": {},
   "source": [
    "### EASY-RES"
   ]
  },
  {
   "cell_type": "code",
   "execution_count": 60,
   "id": "01233f97",
   "metadata": {},
   "outputs": [
    {
     "name": "stdout",
     "output_type": "stream",
     "text": [
      "X_m = 20.000, X_a = -0.785\n",
      "r = 14.142, i = -14.142\n",
      "alpha = -14.142, beta = -14.142\n",
      "d = -14.142, q = -14.142\n",
      "alpha = -14.142, beta = -14.142\n",
      "r = 14.142, i = 14.142\n",
      "m = 20.000, theta = 0.785\n"
     ]
    }
   ],
   "source": [
    "# sin base\n",
    "X_m = 20.0  # phasor module\n",
    "X_a =-np.pi/4  # phasor angle \n",
    "\n",
    "X = X_m*np.exp(1j*X_a) #np.exp(1j*omega*t)\n",
    "\n",
    "print(f'X_m = {X_m:0.3f}, X_a = {X_a:0.3f}')\n",
    "\n",
    "r = X.real   # X_m*cos(X_a)\n",
    "i = X.imag   # X_m*sin(X_a)\n",
    "print(f'r = {r:0.3f}, i = {i:0.3f}')\n",
    "\n",
    "alpha = i\n",
    "beta  =-r\n",
    "\n",
    "print(f'alpha = {alpha:0.3f}, beta = {beta:0.3f}')\n",
    "\n",
    "#print(f'D = {D:0.3f}, Q = {Q:0.3f}')\n",
    "\n",
    "delta = 0.0\n",
    "\n",
    "d = alpha * np.cos(delta) + beta * np.sin(delta)   \n",
    "q =-alpha * np.sin(delta) + beta * np.cos(delta)\n",
    "\n",
    "print(f'd = {d:0.3f}, q = {q:0.3f}')\n",
    "\n",
    "# dq2ab\n",
    "alpha =  d * np.cos(delta) - q * np.sin(delta)   \n",
    "beta  =  d * np.sin(delta) + q * np.cos(delta) \n",
    "\n",
    "print(f'alpha = {alpha:0.3f}, beta = {beta:0.3f}')\n",
    "\n",
    "i = -alpha\n",
    "r = -beta \n",
    "\n",
    "print(f'r = {r:0.3f}, i = {i:0.3f}')\n",
    "\n",
    "m = np.sqrt(r**2 + i**2)\n",
    "theta = np.arctan2(i,r) \n",
    "\n",
    "print(f'm = {m:0.3f}, theta = {theta:0.3f}')\n"
   ]
  },
  {
   "cell_type": "code",
   "execution_count": 61,
   "id": "20288411",
   "metadata": {},
   "outputs": [
    {
     "data": {
      "text/plain": [
       "0.7853981633974483"
      ]
     },
     "execution_count": 61,
     "metadata": {},
     "output_type": "execute_result"
    }
   ],
   "source": [
    "theta"
   ]
  },
  {
   "cell_type": "markdown",
   "id": "99c289fc",
   "metadata": {},
   "source": [
    "### Park transform"
   ]
  },
  {
   "cell_type": "code",
   "execution_count": 62,
   "id": "6cf216ae",
   "metadata": {},
   "outputs": [],
   "source": [
    "import sympy as sym\n",
    "import numpy as np"
   ]
  },
  {
   "cell_type": "markdown",
   "id": "2186d32b",
   "metadata": {},
   "source": [
    "#### Phasor definition"
   ]
  },
  {
   "cell_type": "code",
   "execution_count": 63,
   "id": "ae169833",
   "metadata": {},
   "outputs": [
    {
     "name": "stdout",
     "output_type": "stream",
     "text": [
      "X_m = 1.000, X_a = 0.100\n"
     ]
    }
   ],
   "source": [
    "X_m =  1.0  # phasor module\n",
    "X_a =  0.1  # phasor angle \n",
    "\n",
    "X = X_m*np.exp(1j*X_a)\n",
    "\n",
    "print(f'X_m = {X_m:0.3f}, X_a = {X_a:0.3f}')"
   ]
  },
  {
   "cell_type": "markdown",
   "id": "cbbdbb82",
   "metadata": {},
   "source": [
    "#### Phasor to generic DQ"
   ]
  },
  {
   "cell_type": "code",
   "execution_count": 64,
   "id": "d26f48a4",
   "metadata": {},
   "outputs": [
    {
     "name": "stdout",
     "output_type": "stream",
     "text": [
      "D = 0.100, Q = 0.995\n"
     ]
    }
   ],
   "source": [
    "r = X.real   # X_m*cos(X_a)\n",
    "i = X.imag   # X_m*sin(X_a)\n",
    "\n",
    "D = i\n",
    "Q = r\n",
    "\n",
    "print(f'D = {D:0.3f}, Q = {Q:0.3f}')"
   ]
  },
  {
   "cell_type": "markdown",
   "id": "1b019fdd",
   "metadata": {},
   "source": [
    "### Park transform DQ to dq with angle $\\delta$"
   ]
  },
  {
   "cell_type": "code",
   "execution_count": 65,
   "id": "cf006bdd",
   "metadata": {},
   "outputs": [
    {
     "name": "stdout",
     "output_type": "stream",
     "text": [
      "d = 0.100, q = 0.995\n"
     ]
    }
   ],
   "source": [
    "delta = 0.0\n",
    "\n",
    "d = D * np.cos(delta) - Q * np.sin(delta)   \n",
    "q = D * np.sin(delta) + Q * np.cos(delta)\n",
    "\n",
    "print(f'd = {d:0.3f}, q = {q:0.3f}')"
   ]
  },
  {
   "cell_type": "markdown",
   "id": "05c27e87",
   "metadata": {},
   "source": [
    "#### Inverse Park transform dq to DQ with angle $\\delta$"
   ]
  },
  {
   "cell_type": "code",
   "execution_count": 66,
   "id": "ad14ebc0",
   "metadata": {},
   "outputs": [
    {
     "name": "stdout",
     "output_type": "stream",
     "text": [
      "D = 0.100, Q = 0.995\n"
     ]
    }
   ],
   "source": [
    "D =  d * np.cos(delta) + q * np.sin(delta)   \n",
    "Q = -d * np.sin(delta) + q * np.cos(delta) \n",
    "\n",
    "print(f'D = {D:0.3f}, Q = {Q:0.3f}')"
   ]
  },
  {
   "cell_type": "markdown",
   "id": "189b12ce",
   "metadata": {},
   "source": [
    "#### From DQ to phasor"
   ]
  },
  {
   "cell_type": "code",
   "execution_count": 67,
   "id": "b6508dc7",
   "metadata": {},
   "outputs": [
    {
     "name": "stdout",
     "output_type": "stream",
     "text": [
      "r = 0.995, i = 0.100\n",
      "P_m = 1.000, P_a = 0.100\n"
     ]
    }
   ],
   "source": [
    "i = D\n",
    "r = Q\n",
    "print(f'r = {r:0.3f}, i = {i:0.3f}')\n",
    "\n",
    "P_m = np.sqrt(r**2 + i**2)\n",
    "P_a = np.arctan2(i,r)\n",
    "print(f'P_m = {P_m:0.3f}, P_a = {P_a:0.3f}')"
   ]
  },
  {
   "cell_type": "markdown",
   "id": "23b1aaf4",
   "metadata": {},
   "source": [
    "### RL circuit"
   ]
  },
  {
   "cell_type": "code",
   "execution_count": 68,
   "id": "511cfe78",
   "metadata": {},
   "outputs": [
    {
     "name": "stdout",
     "output_type": "stream",
     "text": [
      "v_tr = 1.960, v_ti = 0.297\n",
      "v_tr = 1.960, v_ti = 0.297\n",
      "p_s =    0.980,    q_s = -0.199\n",
      "p_s_ri = 0.980, q_s_ri = -0.199\n",
      "p_s_dq = 0.980, q_s_dq = -0.199\n"
     ]
    }
   ],
   "source": [
    "X_s = 0.1\n",
    "R_s = 1.0\n",
    "V_s = 1.0\n",
    "theta_vs = 0.0\n",
    "I_s = 1.0\n",
    "theta_is = 0.2\n",
    "\n",
    "v_s = V_s*np.exp(1j*theta_vs)\n",
    "i_s = I_s*np.exp(1j*theta_is)\n",
    "\n",
    "v_sr = v_s.real   # X_m*cos(X_a)\n",
    "v_si = v_s.imag   # X_m*sin(X_a)\n",
    "\n",
    "i_sr = i_s.real   # X_m*cos(X_a)\n",
    "i_si = i_s.imag   # X_m*sin(X_a)\n",
    "\n",
    "v_ti =  R_s*i_si + X_s*i_sr + v_si  \n",
    "v_tr =  R_s*i_sr - X_s*i_si + v_sr \n",
    "\n",
    "print(f'v_tr = {v_tr:0.3f}, v_ti = {v_ti:0.3f}')\n",
    "\n",
    "delta = -0.1\n",
    "v_sd = v_si * np.cos(delta) - v_sr * np.sin(delta)   \n",
    "v_sq = v_si * np.sin(delta) + v_sr * np.cos(delta)\n",
    "i_sd = i_si * np.cos(delta) - i_sr * np.sin(delta)   \n",
    "i_sq = i_si * np.sin(delta) + i_sr * np.cos(delta)\n",
    "\n",
    "v_td =  R_s*i_sd + X_s*i_sq + v_sd  \n",
    "v_tq =  R_s*i_sq - X_s*i_sd + v_sq \n",
    "\n",
    "v_ti =  v_td * np.cos(delta) + v_tq * np.sin(delta)   \n",
    "v_tr = -v_td * np.sin(delta) + v_tq * np.cos(delta) \n",
    "\n",
    "print(f'v_tr = {v_tr:0.3f}, v_ti = {v_ti:0.3f}')\n",
    "\n",
    "s_s = v_s*np.conj(i_s)\n",
    "\n",
    "p_s_ri = i_sr*v_sr + i_si*v_si\n",
    "q_s_ri = i_sr*v_si - i_si*v_sr\n",
    "\n",
    "p_s_dq = i_sd*v_sd + i_sq*v_sq\n",
    "q_s_dq = i_sq*v_sd - i_sd*v_sq\n",
    "\n",
    "print(f'p_s =    {s_s.real:0.3f},    q_s = {s_s.imag:0.3f}')\n",
    "print(f'p_s_ri = {p_s_ri:0.3f}, q_s_ri = {q_s_ri:0.3f}')\n",
    "print(f'p_s_dq = {p_s_dq:0.3f}, q_s_dq = {q_s_dq:0.3f}')"
   ]
  },
  {
   "cell_type": "markdown",
   "id": "875dc041",
   "metadata": {},
   "source": [
    "### Powers"
   ]
  },
  {
   "cell_type": "code",
   "execution_count": null,
   "id": "9e0f93c2",
   "metadata": {},
   "outputs": [],
   "source": []
  },
  {
   "cell_type": "code",
   "execution_count": null,
   "id": "56b4429c",
   "metadata": {},
   "outputs": [],
   "source": [
    "re,im = sym.symbols('d,q', real = True)\n",
    "D,Q = sym.symbols('D,Q', real = True)\n",
    "delta = sym.Symbol('delta', real = True)"
   ]
  },
  {
   "cell_type": "code",
   "execution_count": null,
   "id": "1a683962",
   "metadata": {},
   "outputs": [],
   "source": []
  },
  {
   "cell_type": "code",
   "execution_count": null,
   "id": "df64b6cb",
   "metadata": {},
   "outputs": [],
   "source": []
  },
  {
   "cell_type": "markdown",
   "id": "8c00f0df",
   "metadata": {},
   "source": [
    "### Park from milano\n",
    "\n",
    "$$\n",
    "d = X_m \\sin\\left(\\delta - X_a\\right)  \\\\\n",
    "q = X_m \\cos\\left(\\delta - X_a\\right)\n",
    "$$"
   ]
  },
  {
   "cell_type": "code",
   "execution_count": 75,
   "id": "afced281",
   "metadata": {},
   "outputs": [
    {
     "name": "stdout",
     "output_type": "stream",
     "text": [
      "d = 14.142, q = 14.142\n"
     ]
    }
   ],
   "source": [
    "X_m = 20.0  # phasor module\n",
    "X_a =-np.pi/4  # phasor angle \n",
    "\n",
    "delta = 0.0\n",
    "X = X_m*np.exp(1j*X_a) #np.exp(1j*omega*t)\n",
    "\n",
    "d = X_m*np.sin(delta - X_a) \n",
    "q = X_m*np.cos(delta - X_a) \n",
    "\n",
    "print(f'd = {d:0.3f}, q = {q:0.3f}')"
   ]
  },
  {
   "cell_type": "code",
   "execution_count": 76,
   "id": "7e12c81e",
   "metadata": {},
   "outputs": [
    {
     "name": "stdout",
     "output_type": "stream",
     "text": [
      "r = 14.142, i = -14.142\n",
      "D = -14.142, Q = 14.142\n",
      "d = 14.142, q = 14.142\n",
      "D = -14.142, Q = 14.142\n",
      "r = 14.142, i = -14.142\n"
     ]
    }
   ],
   "source": [
    "r = X.real   # X_m*cos(X_a)\n",
    "i = X.imag   # X_m*sin(X_a)\n",
    "\n",
    "print(f'r = {r:0.3f}, i = {i:0.3f}')\n",
    "\n",
    "D = i\n",
    "Q = r\n",
    "\n",
    "print(f'D = {D:0.3f}, Q = {Q:0.3f}')\n",
    "\n",
    "# Park DQ to dq\n",
    "d = -D * np.cos(delta) + Q * np.sin(delta)   \n",
    "q =  D * np.sin(delta) + Q * np.cos(delta)\n",
    "\n",
    "print(f'd = {d:0.3f}, q = {q:0.3f}')\n",
    "\n",
    "# Inverse Park dq to DQ, P = inv(P)\n",
    "D = -d * np.cos(delta) + q * np.sin(delta)   \n",
    "Q =  d * np.sin(delta) + q * np.cos(delta) \n",
    "\n",
    "\n",
    "print(f'D = {D:0.3f}, Q = {Q:0.3f}')\n",
    "\n",
    "i = D\n",
    "r = Q\n",
    "\n",
    "print(f'r = {r:0.3f}, i = {i:0.3f}')"
   ]
  },
  {
   "cell_type": "markdown",
   "id": "064e39dc",
   "metadata": {},
   "source": [
    "### Parks symbolic"
   ]
  },
  {
   "cell_type": "code",
   "execution_count": 154,
   "id": "7fbcfbb7",
   "metadata": {},
   "outputs": [
    {
     "data": {
      "text/latex": [
       "$\\displaystyle \\left[\\begin{matrix}- \\cos{\\left(\\delta \\right)} & \\sin{\\left(\\delta \\right)}\\\\\\sin{\\left(\\delta \\right)} & \\cos{\\left(\\delta \\right)}\\end{matrix}\\right]$"
      ],
      "text/plain": [
       "Matrix([\n",
       "[-cos(delta), sin(delta)],\n",
       "[ sin(delta), cos(delta)]])"
      ]
     },
     "execution_count": 154,
     "metadata": {},
     "output_type": "execute_result"
    }
   ],
   "source": [
    "delta = sym.Symbol('delta', real = True)\n",
    "\n",
    "P = sym.Matrix([[-sym.cos(delta), sym.sin(delta)],\n",
    "                [ sym.sin(delta), sym.cos(delta)]])\n",
    "P"
   ]
  },
  {
   "cell_type": "code",
   "execution_count": 155,
   "id": "3cd13078",
   "metadata": {},
   "outputs": [
    {
     "data": {
      "text/latex": [
       "$\\displaystyle \\left[\\begin{matrix}- \\cos{\\left(\\delta \\right)} & \\sin{\\left(\\delta \\right)}\\\\\\sin{\\left(\\delta \\right)} & \\cos{\\left(\\delta \\right)}\\end{matrix}\\right]$"
      ],
      "text/plain": [
       "Matrix([\n",
       "[-cos(delta), sin(delta)],\n",
       "[ sin(delta), cos(delta)]])"
      ]
     },
     "execution_count": 155,
     "metadata": {},
     "output_type": "execute_result"
    }
   ],
   "source": [
    "sym.simplify(P.inv())"
   ]
  },
  {
   "cell_type": "code",
   "execution_count": null,
   "id": "b2c9bddb",
   "metadata": {},
   "outputs": [],
   "source": []
  },
  {
   "cell_type": "code",
   "execution_count": 156,
   "id": "f2938b57",
   "metadata": {},
   "outputs": [],
   "source": [
    "### RL circuit"
   ]
  },
  {
   "cell_type": "code",
   "execution_count": 157,
   "id": "f5cc0b74",
   "metadata": {},
   "outputs": [
    {
     "data": {
      "text/latex": [
       "$\\displaystyle \\left[\\begin{matrix}- R i_{1 r} + 1.0 X i_{1 i} + v_{1 r} - v_{2 r}\\\\- 1.0 R i_{1 i} - 1.0 X i_{1 r} + 1.0 v_{1 i} - 1.0 v_{2 i}\\end{matrix}\\right]$"
      ],
      "text/plain": [
       "Matrix([\n",
       "[            -R*i_1_r + 1.0*X*i_1_i + v_1_r - v_2_r],\n",
       "[-1.0*R*i_1_i - 1.0*X*i_1_r + 1.0*v_1_i - 1.0*v_2_i]])"
      ]
     },
     "execution_count": 157,
     "metadata": {},
     "output_type": "execute_result"
    }
   ],
   "source": [
    "v_1_r,v_1_i = sym.symbols('v_1_r,v_1_i', real = True)\n",
    "v_2_r,v_2_i = sym.symbols('v_2_r,v_2_i', real = True)\n",
    "i_1_r,i_1_i = sym.symbols('i_1_r,i_1_i', real = True)\n",
    "R,X = sym.symbols('R,X', real = True)\n",
    "\n",
    "v_1 = v_1_r + 1j*v_1_i\n",
    "v_2 = v_2_r + 1j*v_2_i\n",
    "i_1 = i_1_r + 1j*i_1_i\n",
    "Z = R + 1j*X\n",
    "\n",
    "eq = v_1 - Z*i_1 - v_2 \n",
    "\n",
    "ri = sym.Matrix([[ sym.re(eq)],\n",
    "                 [ sym.im(eq)]])\n",
    "\n",
    "ri"
   ]
  },
  {
   "cell_type": "code",
   "execution_count": 158,
   "id": "dfe66fc1",
   "metadata": {},
   "outputs": [
    {
     "data": {
      "text/latex": [
       "$\\displaystyle \\left[\\begin{matrix}- R i_{1 Q} + 1.0 X i_{1 D} + v_{1 Q} - v_{2 Q}\\\\- 1.0 R i_{1 D} - 1.0 X i_{1 Q} + 1.0 v_{1 D} - 1.0 v_{2 D}\\end{matrix}\\right]$"
      ],
      "text/plain": [
       "Matrix([\n",
       "[            -R*i_1_Q + 1.0*X*i_1_D + v_1_Q - v_2_Q],\n",
       "[-1.0*R*i_1_D - 1.0*X*i_1_Q + 1.0*v_1_D - 1.0*v_2_D]])"
      ]
     },
     "execution_count": 158,
     "metadata": {},
     "output_type": "execute_result"
    }
   ],
   "source": [
    "v_1_D,v_1_Q = sym.symbols('v_1_D,v_1_Q', real = True)\n",
    "v_2_D,v_2_Q = sym.symbols('v_2_D,v_2_Q', real = True)\n",
    "i_1_D,i_1_Q = sym.symbols('i_1_D,i_1_Q', real = True)\n",
    "R,X = sym.symbols('R,X', real = True)\n",
    "\n",
    "v_1 = v_1_Q + 1j*v_1_D\n",
    "v_2 = v_2_Q + 1j*v_2_D\n",
    "i_1 = i_1_Q + 1j*i_1_D\n",
    "Z = R + 1j*X\n",
    "\n",
    "eq = v_1 - Z*i_1 - v_2 \n",
    "\n",
    "DQ = sym.Matrix([[ sym.re(eq)],\n",
    "                 [ sym.im(eq)]])\n",
    "\n",
    "DQ"
   ]
  },
  {
   "cell_type": "code",
   "execution_count": 159,
   "id": "838f5b16",
   "metadata": {},
   "outputs": [],
   "source": [
    "eq = v_1 - Z*i_1 - v_2 "
   ]
  },
  {
   "cell_type": "code",
   "execution_count": 160,
   "id": "a630a9fb",
   "metadata": {},
   "outputs": [
    {
     "data": {
      "text/latex": [
       "$\\displaystyle \\left[\\begin{matrix}R i_{1 d} + X i_{1 q} + v_{1 d} - v_{2 d}\\\\R i_{1 q} - X i_{1 d} + v_{1 q} - v_{2 q}\\end{matrix}\\right]$"
      ],
      "text/plain": [
       "Matrix([\n",
       "[R*i_1_d + X*i_1_q + v_1_d - v_2_d],\n",
       "[R*i_1_q - X*i_1_d + v_1_q - v_2_q]])"
      ]
     },
     "execution_count": 160,
     "metadata": {},
     "output_type": "execute_result"
    }
   ],
   "source": [
    "# eq = v_1DQ - Z*i_1DQ - v_2DQ\n",
    "# eq = Pinv*v_1dq - Z*Pinv*i_1dq - Pinv*v_2dq\n",
    "# eq = P*(Pinv*v_1dq - Z*Pinv*i_1dq - Pinv*v_2dq)\n",
    "# eq = P*Pinv*v_1dq - P*Z*Pinv*i_1dq - P*Pinv*v_2dq)\n",
    "# eq = v_1dq - P*Z*Pinv*i_1dq - v_2dq)\n",
    "\n",
    "v_1_d,v_1_q = sym.symbols('v_1_d,v_1_q', real = True)\n",
    "v_2_d,v_2_q = sym.symbols('v_2_d,v_2_q', real = True)\n",
    "i_1_d,i_1_q = sym.symbols('i_1_d,i_1_q', real = True)\n",
    "R,X = sym.symbols('R,X', real = True)\n",
    "Z_matrix = sym.Matrix([[-R,  X],\n",
    "                       [-X, -R]])\n",
    "\n",
    "v_1_dq = sym.Matrix([[v_1_d],\n",
    "                     [v_1_q]])\n",
    "\n",
    "v_2_dq = sym.Matrix([[v_2_d],\n",
    "                     [v_2_q]])\n",
    "\n",
    "i_1_dq = sym.Matrix([[i_1_d],\n",
    "                     [i_1_q]])\n",
    "\n",
    "eq = v_1_dq - (P*Z_matrix*P.inv())*i_1_dq - v_2_dq\n",
    "sym.simplify(eq)"
   ]
  },
  {
   "cell_type": "code",
   "execution_count": null,
   "id": "21f603e1",
   "metadata": {},
   "outputs": [],
   "source": []
  },
  {
   "cell_type": "code",
   "execution_count": null,
   "id": "40fbbb2d",
   "metadata": {},
   "outputs": [],
   "source": []
  },
  {
   "cell_type": "code",
   "execution_count": 169,
   "id": "80af4070",
   "metadata": {},
   "outputs": [
    {
     "name": "stdout",
     "output_type": "stream",
     "text": [
      "(1.03+0.30000000000000004j)\n"
     ]
    }
   ],
   "source": [
    "R_s = 0.02\n",
    "X_s = 0.2\n",
    "\n",
    "R_v = 0.01\n",
    "X_v = 0.1\n",
    "\n",
    "Z_s = R_s + 1j*X_s\n",
    "Z_v = R_v + 1j*X_v\n",
    "\n",
    "theta_s = 0.0\n",
    "V_s = 1.0\n",
    "v_s_ri = V_s*np.exp(1j*theta_s)\n",
    "\n",
    "phi_s = 0.0\n",
    "I_s = 0.5\n",
    "i_s_ri = V_s*np.exp(1j*(theta_s+phi_s))\n",
    "\n",
    "v_t_ri = v_s_ri + Z_s*i_s_ri\n",
    "\n",
    "e_v_ri = v_t_ri + Z_v*i_s_ri\n",
    "\n",
    "print(e_v_ri)"
   ]
  },
  {
   "cell_type": "code",
   "execution_count": 164,
   "id": "576cf389",
   "metadata": {},
   "outputs": [
    {
     "data": {
      "text/plain": [
       "(1.03+0.30000000000000004j)"
      ]
     },
     "execution_count": 164,
     "metadata": {},
     "output_type": "execute_result"
    }
   ],
   "source": []
  },
  {
   "cell_type": "code",
   "execution_count": 184,
   "id": "ffa380dc",
   "metadata": {},
   "outputs": [
    {
     "name": "stdout",
     "output_type": "stream",
     "text": [
      "1.03 0.30000000000000004\n"
     ]
    }
   ],
   "source": [
    "v_si = v_s_ri.imag\n",
    "v_sr = v_s_ri.real\n",
    "i_si = i_s_ri.imag\n",
    "i_sr = i_s_ri.real\n",
    "\n",
    "v_ti =  R_s*i_si + X_s*i_sr + v_si  \n",
    "v_tr =  R_s*i_sr - X_s*i_si + v_sr \n",
    "\n",
    "e_vi =  R_v*i_si + X_v*i_sr + v_ti  \n",
    "e_vr =  R_v*i_sr - X_v*i_si + v_tr \n",
    "\n",
    "theta_v = np.arctan2(e_vi,e_vr)\n",
    "\n",
    "\n",
    "print(e_vr,e_vi)"
   ]
  },
  {
   "cell_type": "code",
   "execution_count": 188,
   "id": "7a543666",
   "metadata": {},
   "outputs": [
    {
     "name": "stdout",
     "output_type": "stream",
     "text": [
      "1.03 0.10000000000000006\n"
     ]
    }
   ],
   "source": [
    "v_si = v_s_ri.imag\n",
    "v_sr = v_s_ri.real\n",
    "i_si = i_s_ri.imag\n",
    "i_sr = i_s_ri.real\n",
    "\n",
    "# 0 = v_ti - R_s*i_si - X_s*i_sr - v_si\n",
    "# 0 = v_tr - R_s*i_sr + X_s*i_si - v_sr \n",
    "v_ti =  R_s*i_si + X_s*i_sr + v_si  \n",
    "v_tr =  R_s*i_sr - X_s*i_si + v_sr \n",
    "\n",
    "i_sD = i_si\n",
    "i_sQ = i_sr\n",
    "v_tD = v_ti\n",
    "v_tQ = v_tr\n",
    "\n",
    "e_vD =  R_v*i_sD + X_v*i_sQ + v_tD  \n",
    "e_vQ =  R_v*i_sQ - X_v*i_sD + v_tQ \n",
    "\n",
    "\n",
    "delta = theta_v\n",
    "\n",
    "v_td = v_tD * np.cos(delta) - v_tQ * np.sin(delta)   \n",
    "v_tq = v_tD * np.sin(delta) + v_tQ * np.cos(delta)\n",
    "\n",
    "i_sd = i_sD * np.cos(delta) - i_sQ * np.sin(delta)   \n",
    "i_sq = i_sD * np.sin(delta) + i_sQ * np.cos(delta)\n",
    "\n",
    "# 0 = e_vd - R_v*i_sd - X_v*i_sq - v_td  \n",
    "# 0 = e_vq - R_v*i_sq + X_v*i_sd - v_tq \n",
    "e_vd =  R_v*i_sd + X_v*i_sq + v_td  \n",
    "e_vq =  R_v*i_sq - X_v*i_sd + v_tq \n",
    "\n",
    "#print(e_vd,e_vq)\n",
    "\n",
    "e_vD =  e_vd * np.cos(delta) + e_vq * np.sin(delta)   \n",
    "e_vQ = -e_vd * np.sin(delta) + e_vq * np.cos(delta) \n",
    "\n",
    "e_vi = e_vD\n",
    "e_vr = e_vQ\n",
    "\n",
    "print(e_vr,e_vi)"
   ]
  },
  {
   "cell_type": "code",
   "execution_count": 189,
   "id": "0728d74e",
   "metadata": {},
   "outputs": [
    {
     "data": {
      "text/plain": [
       "-0.1920208665928142"
      ]
     },
     "execution_count": 189,
     "metadata": {},
     "output_type": "execute_result"
    }
   ],
   "source": [
    "e_vd"
   ]
  },
  {
   "cell_type": "code",
   "execution_count": 190,
   "id": "85e80f59",
   "metadata": {},
   "outputs": [
    {
     "data": {
      "text/plain": [
       "1.0168716668257332"
      ]
     },
     "execution_count": 190,
     "metadata": {},
     "output_type": "execute_result"
    }
   ],
   "source": [
    "e_vq"
   ]
  },
  {
   "cell_type": "code",
   "execution_count": null,
   "id": "3051758c",
   "metadata": {},
   "outputs": [],
   "source": []
  },
  {
   "cell_type": "markdown",
   "id": "d932bc5d",
   "metadata": {},
   "source": [
    "### Park transform in USE-LABS"
   ]
  },
  {
   "cell_type": "code",
   "execution_count": 3,
   "id": "504b9e71",
   "metadata": {},
   "outputs": [],
   "source": [
    "import sympy as sym\n",
    "import numpy as np"
   ]
  },
  {
   "cell_type": "code",
   "execution_count": 48,
   "id": "597d9e8e",
   "metadata": {},
   "outputs": [
    {
     "name": "stdout",
     "output_type": "stream",
     "text": [
      "a = 0.88, b = -0.02, c = -0.85\n",
      "alpha = 0.88, beta = 0.48\n",
      "d = 1.00, q = 0.00\n"
     ]
    }
   ],
   "source": [
    "X_m =  1.0  # phasor module\n",
    "X_ang =  0.0  # phasor angle \n",
    "\n",
    "X_ma = X_mb = X_mc = X_m\n",
    "\n",
    "X_a = X_ma*np.exp(1j*X_ang) \n",
    "X_b = X_mb*np.exp(1j*(X_ang-2/3*np.pi)) \n",
    "X_c = X_mc*np.exp(1j*(X_ang-4/3*np.pi)) \n",
    "\n",
    "theta = 0.5\n",
    "\n",
    "a = np.real(factor*X_a*np.exp(1j*theta)) \n",
    "b = np.real(factor*X_b*np.exp(1j*theta)) \n",
    "c = np.real(factor*X_c*np.exp(1j*theta)) \n",
    "\n",
    "alpha = 2/3*(a - 0.5*b - 0.5*c)\n",
    "beta = 2/3*(np.sqrt(3)/2*b - np.sqrt(3)/2*c)\n",
    "\n",
    "d =  ( alpha*np.cos(theta) + beta*np.sin(theta));\n",
    "q =  (-alpha*np.sin(theta) + beta*np.cos(theta));\n",
    "\n",
    "print(f'a = {a:0.2f}, b = {b:0.2f}, c = {c:0.2f}')\n",
    "print(f'alpha = {alpha:0.2f}, beta = {beta:0.2f}')\n",
    "print(f'd = {d:0.2f}, q = {q:0.2f}')"
   ]
  },
  {
   "cell_type": "markdown",
   "id": "3c5b58f6",
   "metadata": {},
   "source": [
    "## Equivalencia con pydae 1"
   ]
  },
  {
   "cell_type": "code",
   "execution_count": 53,
   "id": "08280356",
   "metadata": {},
   "outputs": [
    {
     "name": "stdout",
     "output_type": "stream",
     "text": [
      "a = 0.88, b = -0.02, c = -0.85\n",
      "alpha = 0.88, beta = -0.48\n",
      "d = 1.00, q = -0.00\n"
     ]
    }
   ],
   "source": [
    "factor = 1.0\n",
    "a = np.real(factor*X_a*np.exp(1j*theta)) \n",
    "b = np.real(factor*X_b*np.exp(1j*theta)) \n",
    "c = np.real(factor*X_c*np.exp(1j*theta)) \n",
    "\n",
    "alpha = 2/3*(a - 0.5*b - 0.5*c)\n",
    "beta  =-2/3*(np.sqrt(3)/2*b - np.sqrt(3)/2*c)\n",
    "\n",
    "d = alpha * np.cos(theta) - beta * np.sin(theta)   \n",
    "q = alpha * np.sin(theta) + beta * np.cos(theta)\n",
    "\n",
    "print(f'a = {a:0.2f}, b = {b:0.2f}, c = {c:0.2f}')\n",
    "print(f'alpha = {alpha:0.2f}, beta = {beta:0.2f}')\n",
    "print(f'd = {d:0.2f}, q = {q:0.2f}')"
   ]
  },
  {
   "cell_type": "markdown",
   "id": "ebd24539",
   "metadata": {},
   "source": [
    "#### Phasor definition"
   ]
  },
  {
   "cell_type": "code",
   "execution_count": null,
   "id": "1909b937",
   "metadata": {},
   "outputs": [],
   "source": [
    "X_m =  1.0  # phasor module\n",
    "X_ang =  0.2  # phasor angle \n",
    "\n",
    "X = X_m*np.exp(1j*X_a)\n",
    "\n",
    "print(f'X_m = {X_m:0.3f}, X_a = {X_ang:0.3f}')"
   ]
  },
  {
   "cell_type": "markdown",
   "id": "8578861f",
   "metadata": {},
   "source": [
    "#### Phasor to generic DQ"
   ]
  },
  {
   "cell_type": "code",
   "execution_count": null,
   "id": "e3c6a60a",
   "metadata": {},
   "outputs": [],
   "source": [
    "r = X.real   # X_m*cos(X_a)\n",
    "i = X.imag   # X_m*sin(X_a)\n",
    "\n",
    "D = i\n",
    "Q = r\n",
    "\n",
    "print(f'D = {D:0.3f}, Q = {Q:0.3f}')"
   ]
  },
  {
   "cell_type": "markdown",
   "id": "e7f03ee1",
   "metadata": {},
   "source": [
    "### Park transform DQ to dq with angle $\\delta$"
   ]
  },
  {
   "cell_type": "code",
   "execution_count": null,
   "id": "1e3114a2",
   "metadata": {},
   "outputs": [],
   "source": [
    "delta = 0.1\n",
    "\n",
    "d = D * np.cos(delta) - Q * np.sin(delta)   \n",
    "q = D * np.sin(delta) + Q * np.cos(delta)\n",
    "\n",
    "print(f'd = {d:0.3f}, q = {q:0.3f}')"
   ]
  },
  {
   "cell_type": "markdown",
   "id": "b712474e",
   "metadata": {},
   "source": [
    "#### Inverse Park transform dq to DQ with angle $\\delta$"
   ]
  },
  {
   "cell_type": "code",
   "execution_count": null,
   "id": "3c2f9caf",
   "metadata": {},
   "outputs": [],
   "source": [
    "D =  d * np.cos(delta) + q * np.sin(delta)   \n",
    "Q = -d * np.sin(delta) + q * np.cos(delta) \n",
    "\n",
    "print(f'D = {D:0.3f}, Q = {Q:0.3f}')"
   ]
  },
  {
   "cell_type": "markdown",
   "id": "4ca96c20",
   "metadata": {},
   "source": [
    "#### From DQ to phasor"
   ]
  },
  {
   "cell_type": "code",
   "execution_count": null,
   "id": "8c39a45c",
   "metadata": {},
   "outputs": [],
   "source": [
    "i = D\n",
    "r = Q\n",
    "print(f'r = {r:0.3f}, i = {i:0.3f}')\n",
    "\n",
    "P_m = np.sqrt(r**2 + i**2)\n",
    "P_a = np.arctan2(i,r)\n",
    "print(f'P_m = {P_m:0.3f}, P_a = {P_a:0.3f}')"
   ]
  },
  {
   "cell_type": "code",
   "execution_count": null,
   "id": "5834b4e9",
   "metadata": {},
   "outputs": [],
   "source": []
  },
  {
   "cell_type": "code",
   "execution_count": 87,
   "id": "b5afcbb9",
   "metadata": {},
   "outputs": [
    {
     "name": "stdout",
     "output_type": "stream",
     "text": [
      "a = 0.866, b = -0.866, c = 0.000\n",
      "d = -0.000, q = -1.000\n",
      "a = 0.866, b = -0.866, c = 0.000\n"
     ]
    }
   ],
   "source": [
    "sin = np.sin\n",
    "cos = np.cos\n",
    "pi23 = 2.0/3.0*np.pi\n",
    "\n",
    "X_m = 1.0\n",
    "theta = np.pi/3\n",
    "\n",
    "a = X_m*sin(theta);\n",
    "b = X_m*sin(theta - pi23);\n",
    "c = X_m*sin(theta + pi23);\n",
    "\n",
    "print(f'a = {a:0.3f}, b = {b:0.3f}, c = {c:0.3f}')\n",
    "\n",
    "d =  2.0/3.0*(a*cos(theta) + b*cos(theta-pi23)  + c*cos(theta+pi23));\n",
    "q = -2.0/3.0*(a*sin(theta) + b*sin(theta-pi23)  + c*sin(theta+pi23));\n",
    "\n",
    "print(f'd = {d:0.3f}, q = {q:0.3f}')\n",
    "\n",
    "a =  (d*cos(theta)      - q*sin(theta));\n",
    "b =  (d*cos(theta-pi23) - q*sin(theta-pi23));\n",
    "c =  (d*cos(theta+pi23) - q*sin(theta+pi23));\n",
    "\n",
    "print(f'a = {a:0.3f}, b = {b:0.3f}, c = {c:0.3f}')"
   ]
  },
  {
   "cell_type": "code",
   "execution_count": 79,
   "id": "33c83eee",
   "metadata": {},
   "outputs": [
    {
     "data": {
      "text/plain": [
       "4.73224043715847"
      ]
     },
     "execution_count": 79,
     "metadata": {},
     "output_type": "execute_result"
    }
   ],
   "source": [
    ".866/0.183"
   ]
  },
  {
   "cell_type": "code",
   "execution_count": 82,
   "id": "9ef62064",
   "metadata": {},
   "outputs": [
    {
     "data": {
      "text/plain": [
       "0.18301270189221946"
      ]
     },
     "execution_count": 82,
     "metadata": {},
     "output_type": "execute_result"
    }
   ],
   "source": [
    "c"
   ]
  },
  {
   "cell_type": "code",
   "execution_count": null,
   "id": "d8a092bc",
   "metadata": {},
   "outputs": [],
   "source": []
  }
 ],
 "metadata": {
  "jupytext": {
   "formats": "ipynb,md:myst"
  },
  "kernelspec": {
   "display_name": "Python 3 (ipykernel)",
   "language": "python",
   "name": "python3"
  },
  "language_info": {
   "codemirror_mode": {
    "name": "ipython",
    "version": 3
   },
   "file_extension": ".py",
   "mimetype": "text/x-python",
   "name": "python",
   "nbconvert_exporter": "python",
   "pygments_lexer": "ipython3",
   "version": "3.9.13"
  }
 },
 "nbformat": 4,
 "nbformat_minor": 5
}
