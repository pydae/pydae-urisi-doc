{
 "cells": [
  {
   "cell_type": "code",
   "execution_count": 1,
   "metadata": {},
   "outputs": [],
   "source": [
    "import numpy as np\n",
    "from pydae.urisi.utils import report_v,get_v,get_i,get_power\n",
    "from pydae.urisi.lines import change_line\n",
    "import matplotlib.pyplot as plt\n",
    "from pydae.svg_tools import svg,grid2svg\n",
    "from IPython.core.display import HTML,SVG"
   ]
  },
  {
   "cell_type": "code",
   "execution_count": 2,
   "metadata": {},
   "outputs": [],
   "source": [
    "import cigre_eu_lv_com"
   ]
  },
  {
   "cell_type": "code",
   "execution_count": 4,
   "metadata": {},
   "outputs": [
    {
     "name": "stdout",
     "output_type": "stream",
     "text": [
      "Input or parameter p_load_R18_a not found.\n",
      "Input or parameter q_load_R18_a not found.\n",
      "Input or parameter p_load_R18_b not found.\n",
      "Input or parameter q_load_R18_b not found.\n",
      "Input or parameter p_load_R18_c not found.\n",
      "Input or parameter q_load_R18_c not found.\n",
      "V_MV0_an: 11546.6|   -0.0º V,    V_MV0_ag: 11546.6|   -0.0º V,    V_1 = 11546.6 V, unb = 0.00%\n",
      "V_MV0_bn: 11546.6| -120.0º V,    V_MV0_bg: 11546.6| -120.0º V,    V_2 =     0.0 V\n",
      "V_MV0_cn: 11546.6|  120.0º V,    V_MV0_cg: 11546.6|  120.0º V,    v_0 =     0.0 V\n",
      "  V_MV0_ng:      0.0|      0.0º V\n",
      "V_C01_an:   225.7|  -31.5º V,    V_C01_ag:   225.4|  -31.6º V,    V_1 =   225.7 V, unb = 0.01%\n",
      "V_C01_bn:   225.7| -151.5º V,    V_C01_bg:   226.0| -151.6º V,    V_2 =     0.0 V\n",
      "V_C01_cn:   225.7|   88.5º V,    V_C01_cg:   225.8|   88.6º V,    v_0 =     0.4 V\n",
      "  V_C01_ng:      0.3|    173.8º V\n",
      "V_C02_an:   223.2|  -31.6º V,    V_C02_ag:   223.1|  -31.6º V,    V_1 =   223.6 V, unb = 0.27%\n",
      "V_C02_bn:   223.8| -151.6º V,    V_C02_bg:   223.9| -151.6º V,    V_2 =     0.1 V\n",
      "V_C02_cn:   223.7|   88.5º V,    V_C02_cg:   223.7|   88.5º V,    v_0 =     0.4 V\n",
      "  V_C02_ng:      0.1|    172.9º V\n",
      "V_C03_an:   220.7|  -31.6º V,    V_C03_ag:   220.8|  -31.6º V,    V_1 =   221.4 V, unb = 0.53%\n",
      "V_C03_bn:   221.9| -151.6º V,    V_C03_bg:   221.8| -151.6º V,    V_2 =     0.2 V\n",
      "V_C03_cn:   221.7|   88.5º V,    V_C03_cg:   221.7|   88.4º V,    v_0 =     0.4 V\n",
      "  V_C03_ng:      0.1|     -4.0º V\n",
      "V_C04_an:   219.0|  -31.7º V,    V_C04_ag:   219.2|  -31.7º V,    V_1 =   219.9 V, unb = 0.71%\n",
      "V_C04_bn:   220.5| -151.7º V,    V_C04_bg:   220.3| -151.7º V,    V_2 =     0.3 V\n",
      "V_C04_cn:   220.3|   88.5º V,    V_C04_cg:   220.3|   88.4º V,    v_0 =     0.4 V\n",
      "  V_C04_ng:      0.3|     -5.3º V\n",
      "V_C05_an:   217.2|  -31.7º V,    V_C05_ag:   217.6|  -31.7º V,    V_1 =   218.4 V, unb = 0.90%\n",
      "V_C05_bn:   219.2| -151.7º V,    V_C05_bg:   218.8| -151.7º V,    V_2 =     0.4 V\n",
      "V_C05_cn:   218.9|   88.4º V,    V_C05_cg:   218.9|   88.3º V,    v_0 =     0.4 V\n",
      "  V_C05_ng:      0.4|     -5.6º V\n",
      "V_C06_an:   215.7|  -31.8º V,    V_C06_ag:   216.2|  -31.7º V,    V_1 =   217.1 V, unb = 1.07%\n",
      "V_C06_bn:   218.0| -151.8º V,    V_C06_bg:   217.6| -151.7º V,    V_2 =     0.5 V\n",
      "V_C06_cn:   217.7|   88.4º V,    V_C06_cg:   217.6|   88.3º V,    v_0 =     0.5 V\n",
      "  V_C06_ng:      0.5|     -5.7º V\n",
      "V_C07_an:   215.0|  -31.8º V,    V_C07_ag:   215.5|  -31.7º V,    V_1 =   216.5 V, unb = 1.15%\n",
      "V_C07_bn:   217.4| -151.8º V,    V_C07_bg:   216.9| -151.7º V,    V_2 =     0.5 V\n",
      "V_C07_cn:   217.1|   88.4º V,    V_C07_cg:   217.0|   88.3º V,    v_0 =     0.5 V\n",
      "  V_C07_ng:      0.6|     -5.8º V\n",
      "V_C08_an:   214.2|  -31.8º V,    V_C08_ag:   214.8|  -31.7º V,    V_1 =   215.9 V, unb = 1.24%\n",
      "V_C08_bn:   216.9| -151.8º V,    V_C08_bg:   216.3| -151.7º V,    V_2 =     0.6 V\n",
      "V_C08_cn:   216.5|   88.4º V,    V_C08_cg:   216.5|   88.3º V,    v_0 =     0.5 V\n",
      "  V_C08_ng:      0.7|     -5.9º V\n",
      "V_C09_an:   214.0|  -31.8º V,    V_C09_ag:   214.6|  -31.7º V,    V_1 =   215.7 V, unb = 1.26%\n",
      "V_C09_bn:   216.7| -151.8º V,    V_C09_bg:   216.1| -151.7º V,    V_2 =     0.6 V\n",
      "V_C09_cn:   216.3|   88.4º V,    V_C09_cg:   216.3|   88.2º V,    v_0 =     0.5 V\n",
      "  V_C09_ng:      0.7|     -5.9º V\n",
      "V_C10_an:   219.1|  -31.6º V,    V_C10_ag:   219.2|  -31.5º V,    V_1 =   219.9 V, unb = 0.62%\n",
      "V_C10_bn:   220.4| -151.6º V,    V_C10_bg:   220.3| -151.5º V,    V_2 =     0.3 V\n",
      "V_C10_cn:   220.2|   88.6º V,    V_C10_cg:   220.2|   88.5º V,    v_0 =     0.4 V\n",
      "  V_C10_ng:      0.2|     -6.1º V\n",
      "V_C11_an:   219.1|  -31.6º V,    V_C11_ag:   219.2|  -31.5º V,    V_1 =   219.9 V, unb = 0.62%\n",
      "V_C11_bn:   220.4| -151.6º V,    V_C11_bg:   220.3| -151.5º V,    V_2 =     0.3 V\n",
      "V_C11_cn:   220.2|   88.6º V,    V_C11_cg:   220.2|   88.5º V,    v_0 =     0.4 V\n",
      "  V_C11_ng:      0.2|     -6.1º V\n",
      "V_C12_an:   223.9|  -31.4º V,    V_C12_ag:   223.6|  -31.4º V,    V_1 =   224.0 V, unb = 0.07%\n",
      "V_C12_bn:   224.0| -151.4º V,    V_C12_bg:   224.3| -151.4º V,    V_2 =     0.0 V\n",
      "V_C12_cn:   224.0|   88.6º V,    V_C12_cg:   224.0|   88.7º V,    v_0 =     0.4 V\n",
      "  V_C12_ng:      0.3|    173.8º V\n",
      "V_C13_an:   223.9|  -31.4º V,    V_C13_ag:   223.6|  -31.4º V,    V_1 =   224.0 V, unb = 0.07%\n",
      "V_C13_bn:   224.0| -151.4º V,    V_C13_bg:   224.3| -151.4º V,    V_2 =     0.0 V\n",
      "V_C13_cn:   224.0|   88.6º V,    V_C13_cg:   224.0|   88.7º V,    v_0 =     0.4 V\n",
      "  V_C13_ng:      0.3|    173.8º V\n",
      "V_C14_an:   216.7|  -31.4º V,    V_C14_ag:   216.9|  -31.4º V,    V_1 =   217.6 V, unb = 0.71%\n",
      "V_C14_bn:   218.2| -151.4º V,    V_C14_bg:   218.0| -151.4º V,    V_2 =     0.3 V\n",
      "V_C14_cn:   218.0|   88.7º V,    V_C14_cg:   218.0|   88.7º V,    v_0 =     0.4 V\n",
      "  V_C14_ng:      0.3|     -7.5º V\n",
      "V_C15_an:   217.2|  -31.7º V,    V_C15_ag:   217.6|  -31.7º V,    V_1 =   218.4 V, unb = 0.90%\n",
      "V_C15_bn:   219.2| -151.7º V,    V_C15_bg:   218.8| -151.7º V,    V_2 =     0.4 V\n",
      "V_C15_cn:   218.9|   88.4º V,    V_C15_cg:   218.9|   88.3º V,    v_0 =     0.4 V\n",
      "  V_C15_ng:      0.4|     -5.6º V\n",
      "V_C16_an:   217.2|  -31.7º V,    V_C16_ag:   217.6|  -31.7º V,    V_1 =   218.4 V, unb = 0.90%\n",
      "V_C16_bn:   219.2| -151.7º V,    V_C16_bg:   218.8| -151.7º V,    V_2 =     0.4 V\n",
      "V_C16_cn:   218.9|   88.4º V,    V_C16_cg:   218.9|   88.3º V,    v_0 =     0.4 V\n",
      "  V_C16_ng:      0.4|     -5.7º V\n",
      "V_C17_an:   213.3|  -31.6º V,    V_C17_ag:   213.8|  -31.5º V,    V_1 =   214.9 V, unb = 1.18%\n",
      "V_C17_bn:   215.8| -151.6º V,    V_C17_bg:   215.3| -151.5º V,    V_2 =     0.5 V\n",
      "V_C17_cn:   215.5|   88.6º V,    V_C17_cg:   215.4|   88.5º V,    v_0 =     0.5 V\n",
      "  V_C17_ng:      0.6|     -6.9º V\n",
      "V_C18_an:   216.7|  -31.7º V,    V_C18_ag:   217.1|  -31.7º V,    V_1 =   217.9 V, unb = 0.93%\n",
      "V_C18_bn:   218.7| -151.7º V,    V_C18_bg:   218.3| -151.6º V,    V_2 =     0.4 V\n",
      "V_C18_cn:   218.4|   88.5º V,    V_C18_cg:   218.4|   88.4º V,    v_0 =     0.4 V\n",
      "  V_C18_ng:      0.4|     -5.9º V\n",
      "V_C19_an:   212.7|  -31.7º V,    V_C19_ag:   213.3|  -31.6º V,    V_1 =   214.4 V, unb = 1.31%\n",
      "V_C19_bn:   215.5| -151.7º V,    V_C19_bg:   214.9| -151.6º V,    V_2 =     0.6 V\n",
      "V_C19_cn:   215.1|   88.6º V,    V_C19_cg:   215.0|   88.4º V,    v_0 =     0.5 V\n",
      "  V_C19_ng:      0.7|     -6.6º V\n",
      "V_C20_an:   213.2|  -31.8º V,    V_C20_ag:   213.9|  -31.7º V,    V_1 =   214.9 V, unb = 1.30%\n",
      "V_C20_bn:   216.0| -151.8º V,    V_C20_bg:   215.4| -151.7º V,    V_2 =     0.6 V\n",
      "V_C20_cn:   215.6|   88.5º V,    V_C20_cg:   215.5|   88.3º V,    v_0 =     0.5 V\n",
      "  V_C20_ng:      0.7|     -6.3º V\n"
     ]
    }
   ],
   "source": [
    "model = cigre_eu_lv_com.model()\n",
    "\n",
    "p_load,q_load = 50e3,10e3\n",
    "params = {'p_load_R18_a':p_load/3,'q_load_R18_a':q_load/3,\n",
    "          'p_load_R18_b':p_load/3,'q_load_R18_b':q_load/3,\n",
    "          'p_load_R18_c':p_load/3,'q_load_R18_c':q_load/3}\n",
    "\n",
    "model.ini(params,'xy_0.json')\n",
    "report_v(model,'cigre_eu_lv_com.hjson');\n"
   ]
  },
  {
   "cell_type": "code",
   "execution_count": 5,
   "metadata": {},
   "outputs": [
    {
     "name": "stdout",
     "output_type": "stream",
     "text": [
      "SVG element MV0 not found\n",
      "No trafo trafo_MV0_C01_1 found\n",
      "No trafo trafo_MV0_C01_2 found\n"
     ]
    },
    {
     "ename": "UnboundLocalError",
     "evalue": "cannot access local variable 'trafo_elm' where it is not associated with a value",
     "output_type": "error",
     "traceback": [
      "\u001b[1;31m---------------------------------------------------------------------------\u001b[0m",
      "\u001b[1;31mUnboundLocalError\u001b[0m                         Traceback (most recent call last)",
      "Cell \u001b[1;32mIn[5], line 3\u001b[0m\n\u001b[0;32m      1\u001b[0m s \u001b[38;5;241m=\u001b[39m svg(\u001b[38;5;124m'\u001b[39m\u001b[38;5;124m./cigre_eu_lv_com.svg\u001b[39m\u001b[38;5;124m'\u001b[39m)\n\u001b[0;32m      2\u001b[0m s\u001b[38;5;241m.\u001b[39mset_grid(model,\u001b[38;5;124m'\u001b[39m\u001b[38;5;124mcigre_eu_lv_com.hjson\u001b[39m\u001b[38;5;124m'\u001b[39m)\n\u001b[1;32m----> 3\u001b[0m s\u001b[38;5;241m.\u001b[39mset_tooltips(\u001b[38;5;124mf\u001b[39m\u001b[38;5;124m'\u001b[39m\u001b[38;5;124m./cigre_eu_lv_com_results.svg\u001b[39m\u001b[38;5;124m'\u001b[39m)    \n\u001b[0;32m      5\u001b[0m SVG(\u001b[38;5;124m'\u001b[39m\u001b[38;5;124m./cigre_eu_lv_com_results.svg\u001b[39m\u001b[38;5;124m'\u001b[39m)\n",
      "File \u001b[1;32mc:\\Users\\jmmau\\anaconda3\\Lib\\site-packages\\pydae\\svg_tools.py:150\u001b[0m, in \u001b[0;36msvg.set_tooltips\u001b[1;34m(self, output_file)\u001b[0m\n\u001b[0;32m    148\u001b[0m \u001b[38;5;28;01mdef\u001b[39;00m \u001b[38;5;21mset_tooltips\u001b[39m(\u001b[38;5;28mself\u001b[39m, output_file):\n\u001b[1;32m--> 150\u001b[0m     \u001b[38;5;28mself\u001b[39m\u001b[38;5;241m.\u001b[39mset_tooltips_v2(output_file)\n",
      "File \u001b[1;32mc:\\Users\\jmmau\\anaconda3\\Lib\\site-packages\\pydae\\svg_tools.py:357\u001b[0m, in \u001b[0;36msvg.set_tooltips_v2\u001b[1;34m(self, output_file)\u001b[0m\n\u001b[0;32m    355\u001b[0m             trafo_elm\u001b[38;5;241m.\u001b[39mattrib[\u001b[38;5;124m'\u001b[39m\u001b[38;5;124mdata3\u001b[39m\u001b[38;5;124m'\u001b[39m] \u001b[38;5;241m=\u001b[39m \u001b[38;5;124m'\u001b[39m\u001b[38;5;124m'\u001b[39m\n\u001b[0;32m    356\u001b[0m             trafo_elm\u001b[38;5;241m.\u001b[39mattrib[\u001b[38;5;124m'\u001b[39m\u001b[38;5;124mdata4\u001b[39m\u001b[38;5;124m'\u001b[39m] \u001b[38;5;241m=\u001b[39m \u001b[38;5;124m'\u001b[39m\u001b[38;5;124m'\u001b[39m\n\u001b[1;32m--> 357\u001b[0m         trafo_elm\u001b[38;5;241m.\u001b[39mattrib[\u001b[38;5;124m'\u001b[39m\u001b[38;5;124mclass\u001b[39m\u001b[38;5;124m'\u001b[39m] \u001b[38;5;241m=\u001b[39m \u001b[38;5;124m'\u001b[39m\u001b[38;5;124mtooltip-trigger\u001b[39m\u001b[38;5;124m'\u001b[39m\n\u001b[0;32m    359\u001b[0m \u001b[38;5;28;01mif\u001b[39;00m \u001b[38;5;124m'\u001b[39m\u001b[38;5;124mvscs\u001b[39m\u001b[38;5;124m'\u001b[39m \u001b[38;5;129;01min\u001b[39;00m \u001b[38;5;28mself\u001b[39m\u001b[38;5;241m.\u001b[39mgrid_data:\n\u001b[0;32m    360\u001b[0m     vscs_list \u001b[38;5;241m=\u001b[39m \u001b[38;5;28mself\u001b[39m\u001b[38;5;241m.\u001b[39mgrid_data[\u001b[38;5;124m'\u001b[39m\u001b[38;5;124mvscs\u001b[39m\u001b[38;5;124m'\u001b[39m]\n",
      "\u001b[1;31mUnboundLocalError\u001b[0m: cannot access local variable 'trafo_elm' where it is not associated with a value"
     ]
    }
   ],
   "source": [
    "s = svg('./cigre_eu_lv_com.svg')\n",
    "s.set_grid(model,'cigre_eu_lv_com.hjson')\n",
    "s.set_tooltips(f'./cigre_eu_lv_com_results.svg')    \n",
    "\n",
    "SVG('./cigre_eu_lv_com_results.svg')"
   ]
  },
  {
   "cell_type": "code",
   "execution_count": 11,
   "metadata": {},
   "outputs": [
    {
     "name": "stdout",
     "output_type": "stream",
     "text": [
      "Power = -50.0 kW, Voltage = 210.3 V\n",
      "Power = -40.0 kW, Voltage = 212.0 V\n",
      "Power = -30.0 kW, Voltage = 213.7 V\n",
      "Power = -20.0 kW, Voltage = 215.3 V\n",
      "Power = -10.0 kW, Voltage = 217.0 V\n",
      "Power =  -0.0 kW, Voltage = 218.5 V\n",
      "Power =  10.0 kW, Voltage = 220.1 V\n",
      "Power =  20.0 kW, Voltage = 221.6 V\n",
      "Power =  30.0 kW, Voltage = 223.2 V\n",
      "Power =  40.0 kW, Voltage = 224.7 V\n"
     ]
    }
   ],
   "source": [
    "P = []\n",
    "V = []\n",
    "for p_R18 in np.arange(50e3,-50e3, -10e3):\n",
    "    model = cigre_eu_lv_res.model()\n",
    "\n",
    "    q_R18 = p_R18*0.2\n",
    "    p_load,q_load = p_R18,q_R18\n",
    "    params = {'p_load_R18_a':p_load/3,'q_load_R18_a':q_load/3,\n",
    "              'p_load_R18_b':p_load/3,'q_load_R18_b':q_load/3,\n",
    "              'p_load_R18_c':p_load/3,'q_load_R18_c':q_load/3}\n",
    "\n",
    "    model.ini(params,'xy_0.json')\n",
    "    V_R18 = get_v(model,'R18')\n",
    "    print(f\"Power = {-p_R18/1e3:5.1f} kW, Voltage = {V_R18:0.1f} V\")\n",
    "    P += [p_R18]\n",
    "    V += [V_R18]"
   ]
  },
  {
   "cell_type": "code",
   "execution_count": 18,
   "metadata": {},
   "outputs": [
    {
     "data": {
      "image/png": "[encoded data removed]",
      "text/plain": [
       "<Figure size 750x450 with 1 Axes>"
      ]
     },
     "metadata": {},
     "output_type": "display_data"
    }
   ],
   "source": [
    "plt.close('all')\n",
    "fig, axes = plt.subplots(nrows=1,ncols=1, figsize=(5, 3), frameon=False, dpi=150)\n",
    "\n",
    "axes.plot(P, V, label=f'$V_{{R18}}$')\n",
    "axes.legend()\n",
    "axes.grid(True)"
   ]
  },
  {
   "cell_type": "code",
   "execution_count": null,
   "metadata": {},
   "outputs": [],
   "source": []
  }
 ],
 "metadata": {
  "kernelspec": {
   "display_name": "Python 3 (ipykernel)",
   "language": "python",
   "name": "python3"
  },
  "language_info": {
   "codemirror_mode": {
    "name": "ipython",
    "version": 3
   },
   "file_extension": ".py",
   "mimetype": "text/x-python",
   "name": "python",
   "nbconvert_exporter": "python",
   "pygments_lexer": "ipython3",
   "version": "3.11.7"
  }
 },
 "nbformat": 4,
 "nbformat_minor": 4
}
